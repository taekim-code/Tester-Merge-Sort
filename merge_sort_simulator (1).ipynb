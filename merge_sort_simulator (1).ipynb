{
  "nbformat": 4,
  "nbformat_minor": 0,
  "metadata": {
    "colab": {
      "provenance": []
    },
    "kernelspec": {
      "name": "python3",
      "display_name": "Python 3"
    },
    "language_info": {
      "name": "python"
    }
  },
  "cells": [
    {
      "cell_type": "code",
      "execution_count": 7,
      "metadata": {
        "id": "gTfjeUYHQNbq",
        "colab": {
          "base_uri": "https://localhost:8080/"
        },
        "outputId": "20de1401-f36b-4123-cb4c-90571ebb8e50"
      },
      "outputs": [
        {
          "output_type": "stream",
          "name": "stdout",
          "text": [
            "Enter numbers to sort, separated by commas (e.g. 5,2,9,1): 11, 7, 123, 24, 1, 4, 1, 80\n",
            "\n",
            "Original array: [11, 7, 123, 24, 1, 4, 1, 80]\n",
            "Splitting: [11, 7, 123, 24, 1, 4, 1, 80]\n",
            "  Splitting: [11, 7, 123, 24]\n",
            "    Splitting: [11, 7]\n",
            "    Merging:  [7, 11]\n",
            "    Splitting: [123, 24]\n",
            "    Merging:  [24, 123]\n",
            "  Merging:  [7, 11, 24, 123]\n",
            "  Splitting: [1, 4, 1, 80]\n",
            "    Splitting: [1, 4]\n",
            "    Merging:  [1, 4]\n",
            "    Splitting: [1, 80]\n",
            "    Merging:  [1, 80]\n",
            "  Merging:  [1, 1, 4, 80]\n",
            "Merging:  [1, 1, 4, 7, 11, 24, 80, 123]\n",
            "\n",
            "Sorted array:   [1, 1, 4, 7, 11, 24, 80, 123]\n"
          ]
        }
      ],
      "source": [
        "# merge sort simulator#\n",
        "\n",
        "def merge_sort(arr, depth=0):\n",
        "    indent = '  ' * depth\n",
        "    if len(arr) > 1:\n",
        "        mid = len(arr)//2\n",
        "        L = arr[:mid]\n",
        "        R = arr[mid:]\n",
        "\n",
        "        print(f\"{indent}Splitting: {arr}\")\n",
        "        merge_sort(L, depth+1)\n",
        "        merge_sort(R, depth+1)\n",
        "\n",
        "        i = j = k = 0\n",
        "\n",
        "        while i < len(L) and j < len(R):\n",
        "            if L[i] < R[j]:\n",
        "                arr[k] = L[i]\n",
        "                i += 1\n",
        "            else:\n",
        "                arr[k] = R[j]\n",
        "                j += 1\n",
        "            k += 1\n",
        "\n",
        "        while i < len(L):\n",
        "            arr[k] = L[i]\n",
        "            i += 1\n",
        "            k += 1\n",
        "\n",
        "        while j < len(R):\n",
        "            arr[k] = R[j]\n",
        "            j += 1\n",
        "            k += 1\n",
        "\n",
        "        print(f\"{indent}Merging:  {arr}\")\n",
        "\n",
        "# user input#\n",
        "\n",
        "user_input = input(\"Enter numbers to sort, separated by commas (e.g. 5,2,9,1): \")\n",
        "arr = [int(x.strip()) for x in user_input.split(',')]\n",
        "\n",
        "print(\"\\nOriginal array:\", arr)\n",
        "merge_sort(arr)\n",
        "print(\"\\nSorted array:  \", arr)\n"
      ]
    },
    {
      "cell_type": "code",
      "source": [],
      "metadata": {
        "id": "UHcw9t-4QQVa"
      },
      "execution_count": null,
      "outputs": []
    }
  ]
}